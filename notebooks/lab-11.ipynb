{
 "cells": [
  {
   "cell_type": "markdown",
   "metadata": {
    "nbgrader": {
     "grade": false,
     "grade_id": "cell-1b4a3e23a5075895",
     "locked": true,
     "schema_version": 1,
     "solution": false
    }
   },
   "source": [
    "# Lab 11\n",
    "This week we will take a closer look at how the long-run behaviour of a system is decided by its eigenvalues (and eigenvectors).\n",
    "## Setup"
   ]
  },
  {
   "cell_type": "code",
   "execution_count": null,
   "metadata": {
    "nbgrader": {
     "grade": false,
     "grade_id": "cell-da4eb5c4e9569f35",
     "locked": true,
     "schema_version": 1,
     "solution": false
    }
   },
   "outputs": [],
   "source": [
    "from numpy import (real, imag, isclose, allclose, \n",
    "                   array, exp, linspace, cos, sin,\n",
    "                   meshgrid, sqrt, round, arange, ones)\n",
    "from numpy.linalg import eig, solve\n",
    "from scipy.integrate import odeint\n",
    "from scipy.linalg import expm, logm\n",
    "import plotly.io\n",
    "from plotly import graph_objs as go\n",
    "from plotly.figure_factory import create_quiver"
   ]
  },
  {
   "cell_type": "markdown",
   "metadata": {
    "nbgrader": {
     "grade": false,
     "grade_id": "cell-ade9efbc0d6933b8",
     "locked": true,
     "schema_version": 1,
     "solution": false
    }
   },
   "source": [
    "The vector $\\mathbf{x}$ gives the probability that a nucleotide is in a particular state (A, C, G, or T) in the human gene ENSG00000069248. Over the last 160 million years, $\\mathbf{x}$ evolved according to the equation\n",
    "\\begin{align*}\n",
    "\\mathbf{x}_{t+1}=\\left[\\begin{matrix}\n",
    "0.9938& 0.0024& 0.0019& 0.0001\\\\\n",
    "0.0005& 0.9936& 0.0006& 0.0033\\\\\n",
    "0.0045& 0.0006& 0.9969& 0.0003\\\\\n",
    "0.0012& 0.0034& 0.0006& 0.9963\\end{matrix}\\right]\\mathbf{x}_t,\n",
    "\\end{align*}\n",
    "where each time increment ($t$ to $t+1$) corresponds to 10 million years.\n",
    "\n",
    "For your convenience, I have copied the above matrix into a NumPy array:"
   ]
  },
  {
   "cell_type": "code",
   "execution_count": null,
   "metadata": {
    "nbgrader": {
     "grade": false,
     "grade_id": "cell-00f809bc1c5f311f",
     "locked": true,
     "schema_version": 1,
     "solution": false
    }
   },
   "outputs": [],
   "source": [
    "P = array([[9.938e-01, 2.400e-03, 1.900e-03, 1.000e-04],\n",
    "           [5.000e-04, 9.936e-01, 6.000e-04, 3.300e-03],\n",
    "           [4.500e-03, 6.000e-04, 9.969e-01, 3.000e-04],\n",
    "           [1.200e-03, 3.400e-03, 6.000e-04, 9.963e-01]])"
   ]
  },
  {
   "cell_type": "markdown",
   "metadata": {
    "nbgrader": {
     "grade": false,
     "grade_id": "cell-77ab32ffeb4bd1f1",
     "locked": true,
     "schema_version": 1,
     "solution": false
    }
   },
   "source": [
    "1. Given that\n",
    "\\begin{align*}\n",
    "\\mathbf{x}_0=\\left[\\begin{matrix}\n",
    "0.3082\\\\0.1822\\\\0.1663\\\\0.3433\n",
    "\\end{matrix}\\right],\n",
    "\\end{align*}\n",
    "and that $t=16$ today, plot $\\mathbf{x}_t$ for the last 160 million years. Plot all four probabilities on the same graph, using markers rather than lines."
   ]
  },
  {
   "cell_type": "code",
   "execution_count": null,
   "metadata": {
    "nbgrader": {
     "grade": true,
     "grade_id": "cell-acb6f7bb4867ff40",
     "locked": false,
     "points": 2,
     "schema_version": 1,
     "solution": true
    }
   },
   "outputs": [],
   "source": []
  },
  {
   "cell_type": "markdown",
   "metadata": {
    "nbgrader": {
     "grade": false,
     "grade_id": "cell-eedd92e8ea7fe465",
     "locked": true,
     "schema_version": 1,
     "solution": false
    }
   },
   "source": [
    "2. The solution to the equation above takes the form\n",
    "\\begin{align*}\n",
    "\\mathbf{x}_t=a_1\\lambda_1^t\\mathbf{v}_1 + a_2\\lambda_2^t\\mathbf{v}_2 + a_3\\lambda_3^t\\mathbf{v}_3 + a_4\\lambda_4^t\\mathbf{v}_4,\n",
    "\\end{align*}\n",
    "where $\\lambda_i$ and $v_i$ are the eigenvalues and eigenvectors of $P$, respectively, and $a_i$ are scalars. Find the values of $a_i$ for the initial conditions ($x_0$) given in question 1."
   ]
  },
  {
   "cell_type": "code",
   "execution_count": null,
   "metadata": {
    "nbgrader": {
     "grade": true,
     "grade_id": "cell-8f8cbc5cedc9e118",
     "locked": false,
     "points": 1,
     "schema_version": 1,
     "solution": true
    }
   },
   "outputs": [],
   "source": []
  },
  {
   "cell_type": "markdown",
   "metadata": {
    "nbgrader": {
     "grade": false,
     "grade_id": "cell-80ccd8f3028cc78d",
     "locked": true,
     "schema_version": 1,
     "solution": false
    }
   },
   "source": [
    "3. Use the formula from Question 2 to write a function that returns values of $x_t$ given an array of times, the $a_i$ coefficients, the eigenvalues, and the eigenvectors. The latter two should be in the form as returned by `numpy.linalg.eig`."
   ]
  },
  {
   "cell_type": "code",
   "execution_count": null,
   "metadata": {
    "nbgrader": {
     "grade": false,
     "grade_id": "cell-e9e8638bdd4ded30",
     "locked": false,
     "schema_version": 1,
     "solution": true
    }
   },
   "outputs": [],
   "source": [
    "def calc_x(t, a, lam, V):\n",
    "    ### YOUR IMPLEMENTATION GOES HERE"
   ]
  },
  {
   "cell_type": "code",
   "execution_count": null,
   "metadata": {
    "nbgrader": {
     "grade": true,
     "grade_id": "cell-b97906d084fd6c87",
     "locked": true,
     "points": 1,
     "schema_version": 1,
     "solution": false
    }
   },
   "outputs": [],
   "source": [
    "assert allclose(calc_x(\n",
    "    arange(4), array([1, 1, 1, 1]), array([1, 0.9, 0.8, 0.6]), \n",
    "    (ones((4,4))*[0.1, 0.2, 0.3, 0.4]).T),\n",
    "                array([[0.4       , 0.8       , 1.2       , 1.6       ],\n",
    "                       [0.33      , 0.66      , 0.99      , 1.32      ],\n",
    "                       [0.281     , 0.562     , 0.843     , 1.124     ],\n",
    "                       [0.2457    , 0.4914    , 0.7371    , 0.9828    ]]))\n",
    "lam, v = eig(P)\n",
    "a = solve(v, x0)\n",
    "assert allclose(calc_x(arange(17), a, lam, v),\n",
    "                 array([[0.3082    , 0.1822    , 0.1663    , 0.3433    ],\n",
    "                       [0.30707674, 0.18242069, 0.16738368, 0.34311889],\n",
    "                       [0.30596301, 0.18263946, 0.16845902, 0.3429385 ],\n",
    "                       [0.30485874, 0.18285632, 0.1695261 , 0.34275884],\n",
    "                       [0.30376385, 0.18307129, 0.17058497, 0.34257989],\n",
    "                       [0.30267826, 0.18328438, 0.17163572, 0.34240165],\n",
    "                       [0.30160188, 0.1834956 , 0.17267839, 0.34222413],\n",
    "                       [0.30053465, 0.18370498, 0.17371306, 0.34204731],\n",
    "                       [0.29947649, 0.18391252, 0.17473979, 0.3418712 ],\n",
    "                       [0.29842732, 0.18411824, 0.17575865, 0.3416958 ],\n",
    "                       [0.29738706, 0.18432215, 0.1767697 , 0.34152109],\n",
    "                       [0.29635565, 0.18452426, 0.17777301, 0.34134709],\n",
    "                       [0.29533301, 0.18472459, 0.17876863, 0.34117378],\n",
    "                       [0.29431906, 0.18492315, 0.17975663, 0.34100116],\n",
    "                       [0.29331373, 0.18511996, 0.18073708, 0.34082923],\n",
    "                       [0.29231696, 0.18531503, 0.18171002, 0.34065799],\n",
    "                       [0.29132866, 0.18550837, 0.18267554, 0.34048743]]))"
   ]
  },
  {
   "cell_type": "markdown",
   "metadata": {
    "nbgrader": {
     "grade": false,
     "grade_id": "cell-9c5e5946670916c6",
     "locked": true,
     "schema_version": 1,
     "solution": false
    }
   },
   "source": [
    "4. Recreate your plot from Question 1 using your formula."
   ]
  },
  {
   "cell_type": "code",
   "execution_count": null,
   "metadata": {
    "nbgrader": {
     "grade": true,
     "grade_id": "cell-4c0b4ec1f2fb55ff",
     "locked": false,
     "points": 1,
     "schema_version": 1,
     "solution": true
    }
   },
   "outputs": [],
   "source": []
  },
  {
   "cell_type": "markdown",
   "metadata": {
    "nbgrader": {
     "grade": false,
     "grade_id": "cell-ea332213b6e40107",
     "locked": true,
     "schema_version": 1,
     "solution": false
    }
   },
   "source": [
    "5. Use your formula to extend the plot out to ten billion years ($t=1000$)."
   ]
  },
  {
   "cell_type": "code",
   "execution_count": null,
   "metadata": {
    "nbgrader": {
     "grade": true,
     "grade_id": "cell-2f3de6a55ae6ca8c",
     "locked": false,
     "points": 1,
     "schema_version": 1,
     "solution": true
    }
   },
   "outputs": [],
   "source": []
  },
  {
   "cell_type": "markdown",
   "metadata": {
    "nbgrader": {
     "grade": false,
     "grade_id": "cell-31b197635e0a3831",
     "locked": true,
     "schema_version": 1,
     "solution": false
    }
   },
   "source": [
    "6. Look for the dominant eigenvalue of $P$ and find the corresponding eigenvector. What are the limiting values of $x$ for large $t$? Do they agree with your plot for Question 5?"
   ]
  },
  {
   "cell_type": "code",
   "execution_count": null,
   "metadata": {
    "nbgrader": {
     "grade": true,
     "grade_id": "cell-d56fc5139095b093",
     "locked": false,
     "points": 1,
     "schema_version": 1,
     "solution": true
    }
   },
   "outputs": [],
   "source": []
  }
 ],
 "metadata": {
  "celltoolbar": "Create Assignment",
  "kernelspec": {
   "display_name": "Python 3",
   "language": "python",
   "name": "python3"
  },
  "language_info": {
   "codemirror_mode": {
    "name": "ipython",
    "version": 3
   },
   "file_extension": ".py",
   "mimetype": "text/x-python",
   "name": "python",
   "nbconvert_exporter": "python",
   "pygments_lexer": "ipython3",
   "version": "3.8.3"
  }
 },
 "nbformat": 4,
 "nbformat_minor": 4
}
