{
 "cells": [
  {
   "cell_type": "markdown",
   "metadata": {},
   "source": [
    "# Lab 2\n",
    "## Introduction\n",
    "This lab introduces slope fields and a numerical DE solver, an improved version of\n",
    "Euler’s Method. Using these techniques involves a number of commands.\n",
    "\n",
    "### Slope fields\n",
    "Plot the slope field for the differential equation\n",
    "\\begin{align*}\n",
    "\\frac{\\mathrm{d}y}{\\mathrm{d}x} = x - y\n",
    "\\end{align*}\n",
    "for $-1<x<5$ and $-2<y<4$.\n",
    "\n",
    "Start by importing the NumPy and Plotly methods we will need. This week, we will start to make more sophisticated plots using Plotly graph objects. We will also need a SciPy method. SciPy extends the capabilities of NumPy."
   ]
  },
  {
   "cell_type": "code",
   "execution_count": null,
   "metadata": {},
   "outputs": [],
   "source": [
    "from plotly.figure_factory import create_quiver\n",
    "from plotly import graph_objs as go\n",
    "from numpy import meshgrid, linspace, sqrt\n",
    "from numpy.testing import assert_almost_equal\n",
    "\n",
    "from scipy.integrate import odeint"
   ]
  },
  {
   "cell_type": "markdown",
   "metadata": {},
   "source": [
    "Now plot the slope field. A slope field is a special type of _quiver_ plot. We create NumPy arrays that say where to plot the line segments (`x` and `y`) and arrays to point them in the right direction (`1/L` and `S/L`). The `layout.update` method is optional, but makes the plot prettier and easier to understand."
   ]
  },
  {
   "cell_type": "code",
   "execution_count": null,
   "metadata": {},
   "outputs": [],
   "source": [
    "x, y = meshgrid(linspace(-1, 5, 25), linspace(-2, 4, 25))\n",
    "S = x - y\n",
    "L = sqrt(1 + S**2)\n",
    "fig = create_quiver(x, y, 1/L, S/L, scale=0.3, arrow_scale=1e-16)\n",
    "fig.layout.update(title_text=\"Slopefield for dy/dx = x - y\",\n",
    "                  yaxis=dict(scaleanchor='x', scaleratio=1))\n",
    "fig.show('png')"
   ]
  },
  {
   "cell_type": "markdown",
   "metadata": {},
   "source": [
    "`1/L` and `S/L` in the `create_quiver` command set the $x$ and $y$ lengths (components) of the line segment at each point in the grid.\n",
    "\n",
    "Note that NumPy operates element-wise by default, so `x - y` creates an array of differences, and `S/L` creates an array of quotients. For `1/L`, NumPy does something special called _broadcasting_. It assumes that you meant \"divide an array of ones by the elements of `L`\".\n",
    "\n",
    "The slope of the line segment is then $(S/L)/(1/L) = S$, and the length is\n",
    "\\begin{align*}\n",
    "\\sqrt{\\left(\\frac{1}{L}\\right)^2 + \\left(\\frac{S}{L}\\right)^2} &= \\sqrt{\\frac{1+S^2}{L^2}}\\\\\n",
    "&= 1.\n",
    "\\end{align*}"
   ]
  },
  {
   "cell_type": "markdown",
   "metadata": {},
   "source": [
    "### Numerical/graphical solution of an initial-value problem\n",
    "Plot the (approximate) solution to the initial-value problem\n",
    "\\begin{align*}\n",
    "\\frac{\\mathrm{d}y}{\\mathrm{d}x} = x - y\\qquad y(-1)=0\n",
    "\\end{align*}\n",
    "for $-1 < x <5$. Find $y(5)$.\n",
    "\n",
    "Here we use a numerical DE solver `scipy.integrate.odeint` (which we imported as `odeint`), an improved version of Euler’s Method. To use `odeint`, we need to define the differential equation in a _function_ and then feed it to `odeint`.\n",
    "\n",
    "First define the function. Note that in Python, [white space is important](https://xkcd.com/353/). That is, you have to indent the contents of your function or Python will complain. Most of the time Jupyter will figure out your intentions and auto-indent."
   ]
  },
  {
   "cell_type": "code",
   "execution_count": null,
   "metadata": {},
   "outputs": [],
   "source": [
    "def diff_eq(y, x):\n",
    "    return x - y"
   ]
  },
  {
   "cell_type": "markdown",
   "metadata": {},
   "source": [
    "- The `def` keyword tells Python you would like to define a function.\n",
    "- In this case the function is called `diff_eq` and takes arguments `y` and `x`.\n",
    "- The `return` statement tells Python what you would like to return.\n",
    "- When you stop indenting, the function is over.\n",
    "\n",
    "Note that `odeint` expects the function (`diff_eq` here) to take (at least) two arguments, where the first (`y` here) is the dependent variable and the second (`x` here) is the independent variable, even if these variables do not appear in the RHS of the DE.\n",
    "\n",
    "Now ask `odeint` to generate a solution to our DE."
   ]
  },
  {
   "cell_type": "code",
   "execution_count": null,
   "metadata": {},
   "outputs": [],
   "source": [
    "x = linspace(-1, 5, 61)\n",
    "y = odeint(diff_eq, 0, x).flatten()"
   ]
  },
  {
   "cell_type": "markdown",
   "metadata": {},
   "source": [
    "- `linspace` creates an array of (`61`, in this case) equally-spaced elements.\n",
    "- `odeint` calculates `y` for each value of `x`.\n",
    "- In Python, functions are objects like any other. In this case we pass `diff_eq` as an argument to `odeint`.\n",
    "- The second argument to `odeint` (`0` here) is the initial value of $y$. It must correspond to the first value of `x`.\n",
    "- `odeint` returns a 2D array. We need a 1D array for plotting so we `flatten` it.\n",
    "\n",
    "The following will plot `x` and `y` in a line diagram. Notice the syntax is more complicated than last week. We create the figure, add the line to it, then show it. The advantage of this syntax is that it can be extended to show more than one line on a graph, as we will see below."
   ]
  },
  {
   "cell_type": "code",
   "execution_count": null,
   "metadata": {},
   "outputs": [],
   "source": [
    "fig = go.Figure()\n",
    "fig.add_trace(go.Scatter(x=x, y=y))\n",
    "fig.show('png')"
   ]
  },
  {
   "cell_type": "markdown",
   "metadata": {},
   "source": [
    "Finally, to calculate $y(5)$, we realise that the values calculated by `odeint` are stored in the array `y`. So display `y`."
   ]
  },
  {
   "cell_type": "code",
   "execution_count": null,
   "metadata": {},
   "outputs": [],
   "source": [
    "y"
   ]
  },
  {
   "cell_type": "markdown",
   "metadata": {},
   "source": [
    "Here we just want the last value. We can grab the last element of the array with `y[-1]`. (`y[-2]` gives the second last element.)"
   ]
  },
  {
   "cell_type": "code",
   "execution_count": null,
   "metadata": {},
   "outputs": [],
   "source": [
    "y[-1]"
   ]
  },
  {
   "cell_type": "markdown",
   "metadata": {},
   "source": [
    "`x[-1]` is th elast element of `x`. Check it too."
   ]
  },
  {
   "cell_type": "code",
   "execution_count": null,
   "metadata": {},
   "outputs": [],
   "source": [
    "x[-1]"
   ]
  },
  {
   "cell_type": "markdown",
   "metadata": {},
   "source": [
    "Now we will plot multiple (approximate) solutions on the same graph. We do that by just adding each line as we go. Does the resulting figure make sense?"
   ]
  },
  {
   "cell_type": "code",
   "execution_count": null,
   "metadata": {},
   "outputs": [],
   "source": [
    "fig = go.Figure()\n",
    "x = linspace(-1, 5, 61)\n",
    "y = odeint(diff_eq, 0, x).flatten()\n",
    "fig.add_trace(go.Scatter(x=x, y=y))\n",
    "y = odeint(diff_eq, 2, x).flatten()\n",
    "fig.add_trace(go.Scatter(x=x, y=y))\n",
    "y = odeint(diff_eq, -2, x).flatten()\n",
    "fig.add_trace(go.Scatter(x=x, y=y))\n",
    "fig.layout.update(showlegend=False)\n",
    "fig.show('png')"
   ]
  },
  {
   "cell_type": "markdown",
   "metadata": {},
   "source": [
    "Now let’s put the slope field and the numerical solutions together. Copy and paste the code from above where we created the quiver plot into the cell below. Delete the `fig.show()` command and replace it with the code from the above cell. Delete the command where we create an empty figure (`fig = go.Figure()`), because we want to add our line plots to the slope field.\n",
    "\n",
    "If you have done it properly, the result should look like this:\n",
    "\n",
    "![](images/week-2.png)"
   ]
  },
  {
   "cell_type": "code",
   "execution_count": null,
   "metadata": {},
   "outputs": [],
   "source": []
  },
  {
   "cell_type": "markdown",
   "metadata": {
    "nbgrader": {
     "grade": false,
     "grade_id": "cell-17e44717e17ca409",
     "locked": true,
     "schema_version": 1,
     "solution": false
    }
   },
   "source": [
    "## Exercises\n",
    "\n",
    "Start by importing the tools we will need."
   ]
  },
  {
   "cell_type": "markdown",
   "metadata": {
    "nbgrader": {
     "grade": false,
     "grade_id": "cell-def8f5ac90289a79",
     "locked": true,
     "schema_version": 1,
     "solution": false
    }
   },
   "source": [
    "### Slope field and DE solution plot\n",
    "\n",
    "Plot on the one figure the slopefield for the DE\n",
    "\\begin{align*}\n",
    "\\frac{\\mathrm{d} y}{\\mathrm{d} x} = 2.5y (1 − y)\\qquad y(0) = 0.5,\n",
    "\\end{align*}\n",
    "and the solutions $y(x)$ with $y(0) = 0.2$, $y(0) = 0.5$ and $y(0) = 0.8$.\n",
    "\n",
    "Start by writing down a new definition for `diff_eq` below. Do not change the function's name or inputs."
   ]
  },
  {
   "cell_type": "code",
   "execution_count": null,
   "metadata": {
    "nbgrader": {
     "grade": false,
     "grade_id": "cell-05cc4f7824ab2d84",
     "locked": false,
     "schema_version": 1,
     "solution": true
    }
   },
   "outputs": [],
   "source": [
    "def diff_eq(y, x):\n",
    "    ### diff_eq implementation goes here"
   ]
  },
  {
   "cell_type": "markdown",
   "metadata": {},
   "source": [
    "If you have implemented `diff_eq` correctly, the following should print \"nice job\"."
   ]
  },
  {
   "cell_type": "code",
   "execution_count": null,
   "metadata": {
    "nbgrader": {
     "grade": true,
     "grade_id": "cell-0a0fa9099e30078d",
     "locked": true,
     "points": 1,
     "schema_version": 1,
     "solution": false
    }
   },
   "outputs": [],
   "source": [
    "assert_almost_equal(diff_eq(0.4, 0), 0.6)\n",
    "assert_almost_equal(diff_eq(0.4, 10), 0.6)\n",
    "assert_almost_equal(diff_eq(1, 0), 0)\n",
    "print(\"nice job\")"
   ]
  },
  {
   "cell_type": "markdown",
   "metadata": {
    "nbgrader": {
     "grade": false,
     "grade_id": "cell-4e81a7c558ed87e4",
     "locked": true,
     "schema_version": 1,
     "solution": false
    }
   },
   "source": [
    "Now create your graph. Note that you will have to redefine `S` (from the lab). You can do that using your new definition for `diff_eq` or by writing out the RHS of the equation again.\n",
    "\n",
    "You will also have to change your definition of the meshgrid for the slopefield and the domain and initial values in the `odeint` commands. You want about 21 steps in the x and y ranges in meshgrid. If you change the scaling factor from 0.3 to 0.04 in `create_quiver`, you will get a better slope field.\n",
    "\n",
    "Create the plot for the region $0 < x < 1$ and $0 < y < 1$."
   ]
  },
  {
   "cell_type": "code",
   "execution_count": null,
   "metadata": {
    "nbgrader": {
     "grade": true,
     "grade_id": "cell-8945b9507fff370f",
     "locked": false,
     "points": 2,
     "schema_version": 1,
     "solution": true
    }
   },
   "outputs": [],
   "source": []
  },
  {
   "cell_type": "markdown",
   "metadata": {
    "nbgrader": {
     "grade": false,
     "grade_id": "cell-0050a7948893bc7b",
     "locked": true,
     "schema_version": 1,
     "solution": false
    }
   },
   "source": [
    "### Solution at a point\n",
    "What is $y(1)$ if $y(0)=0.8$?"
   ]
  },
  {
   "cell_type": "code",
   "execution_count": null,
   "metadata": {
    "nbgrader": {
     "grade": false,
     "grade_id": "cell-962d55b6bbeb85ad",
     "locked": false,
     "schema_version": 1,
     "solution": true
    }
   },
   "outputs": [],
   "source": []
  }
 ],
 "metadata": {
  "kernelspec": {
   "display_name": "Python 3",
   "language": "python",
   "name": "python3"
  },
  "language_info": {
   "codemirror_mode": {
    "name": "ipython",
    "version": 3
   },
   "file_extension": ".py",
   "mimetype": "text/x-python",
   "name": "python",
   "nbconvert_exporter": "python",
   "pygments_lexer": "ipython3",
   "version": "3.8.3"
  }
 },
 "nbformat": 4,
 "nbformat_minor": 4
}
